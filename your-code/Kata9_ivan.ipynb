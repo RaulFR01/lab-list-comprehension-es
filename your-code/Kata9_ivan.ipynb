{
 "cells": [
  {
   "cell_type": "markdown",
   "metadata": {},
   "source": [
    "- [Contador de tiempo en cola](https://www.codewars.com/kata/queue-time-counter)"
   ]
  },
  {
   "cell_type": "code",
   "execution_count": 25,
   "metadata": {},
   "outputs": [],
   "source": [
    "def queue_timer(list_queue, initial_position):\n",
    "    print(list_queue)\n",
    "    time = 0\n",
    "    while list_queue[initial_position] > 0:\n",
    "        if list_queue[0] == 0:\n",
    "            list_queue.pop(0)\n",
    "        list_queue.append(list_queue[0] - 1)\n",
    "        list_queue.pop(0)\n",
    "        time += 1\n",
    "        print(list_queue)\n",
    "    return(time)"
   ]
  },
  {
   "cell_type": "code",
   "execution_count": 26,
   "metadata": {},
   "outputs": [
    {
     "name": "stdout",
     "output_type": "stream",
     "text": [
      "[2, 5, 3, 4, 6]\n",
      "[5, 3, 4, 6, 1]\n",
      "[3, 4, 6, 1, 4]\n",
      "[4, 6, 1, 4, 2]\n",
      "[6, 1, 4, 2, 3]\n",
      "[1, 4, 2, 3, 5]\n",
      "[4, 2, 3, 5, 0]\n",
      "[2, 3, 5, 0, 3]\n",
      "[3, 5, 0, 3, 1]\n",
      "8\n"
     ]
    }
   ],
   "source": [
    "queue = [2, 5, 3, 4, 6]\n",
    "position = 2\n",
    "print(queue_timer(queue, position))"
   ]
  }
 ],
 "metadata": {
  "kernelspec": {
   "display_name": "py39_kaggle",
   "language": "python",
   "name": "python3"
  },
  "language_info": {
   "codemirror_mode": {
    "name": "ipython",
    "version": 3
   },
   "file_extension": ".py",
   "mimetype": "text/x-python",
   "name": "python",
   "nbconvert_exporter": "python",
   "pygments_lexer": "ipython3",
   "version": "3.9.18"
  }
 },
 "nbformat": 4,
 "nbformat_minor": 2
}
