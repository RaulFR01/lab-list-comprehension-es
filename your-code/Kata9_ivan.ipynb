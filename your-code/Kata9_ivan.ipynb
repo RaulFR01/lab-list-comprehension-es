{
 "cells": [
  {
   "cell_type": "markdown",
   "metadata": {},
   "source": [
    "- [Contador de tiempo en cola](https://www.codewars.com/kata/queue-time-counter)"
   ]
  },
  {
   "cell_type": "code",
   "execution_count": 48,
   "metadata": {},
   "outputs": [],
   "source": [
    "def queue_timer(list_queue, initial_position):\n",
    "    time = 0\n",
    "    while list_queue[initial_position] > 0:\n",
    "        if list_queue[0] == 0:\n",
    "            time += 0\n",
    "        else:\n",
    "            time += 1\n",
    "            list_queue.append(list_queue[0] - 1)\n",
    "        list_queue.pop(0)\n",
    "        if initial_position == 0:\n",
    "            initial_position = len(list_queue) - 1\n",
    "        else:\n",
    "            initial_position -= 1\n",
    "    return(time)"
   ]
  }
 ],
 "metadata": {
  "kernelspec": {
   "display_name": "py39_kaggle",
   "language": "python",
   "name": "python3"
  },
  "language_info": {
   "codemirror_mode": {
    "name": "ipython",
    "version": 3
   },
   "file_extension": ".py",
   "mimetype": "text/x-python",
   "name": "python",
   "nbconvert_exporter": "python",
   "pygments_lexer": "ipython3",
   "version": "3.9.18"
  }
 },
 "nbformat": 4,
 "nbformat_minor": 2
}
