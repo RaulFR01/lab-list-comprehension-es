{
 "cells": [
  {
   "cell_type": "markdown",
   "id": "fee3e559-02db-4e98-a548-4f314a64a4e7",
   "metadata": {},
   "source": [
    "Given an array of integers.\n",
    "\n",
    "Return an array, where the first element is the count of positives numbers and the second element is sum of negative numbers. 0 is neither positive nor negative.\n",
    "\n",
    "If the input is an empty array or is null, return an empty array.\n",
    "\n",
    "Example\n",
    "For input [1, 2, 3, 4, 5, 6, 7, 8, 9, 10, -11, -12, -13, -14, -15], you should return [10, -65]."
   ]
  },
  {
   "cell_type": "code",
   "execution_count": 7,
   "id": "2d5bcf34-891d-4a0c-a80a-14e981560ecb",
   "metadata": {},
   "outputs": [],
   "source": [
    "def countsum(list_):\n",
    "    list_pos = sum(1 for i in list_ if i > 0)\n",
    "    list_neg = sum(i for i in list_ if i < 0)\n",
    "    return [list_pos,list_neg]\n",
    "    "
   ]
  },
  {
   "cell_type": "code",
   "execution_count": 8,
   "id": "6639c1a5-cfd5-4d71-aa71-e4d2ca41ac1c",
   "metadata": {},
   "outputs": [
    {
     "data": {
      "text/plain": [
       "[10, -65]"
      ]
     },
     "execution_count": 8,
     "metadata": {},
     "output_type": "execute_result"
    }
   ],
   "source": [
    "countsum([1, 2, 3, 4, 5, 6, 7, 8, 9, 10, -11, -12, -13, -14, -15])"
   ]
  }
 ],
 "metadata": {
  "kernelspec": {
   "display_name": "Python 3 (ipykernel)",
   "language": "python",
   "name": "python3"
  },
  "language_info": {
   "codemirror_mode": {
    "name": "ipython",
    "version": 3
   },
   "file_extension": ".py",
   "mimetype": "text/x-python",
   "name": "python",
   "nbconvert_exporter": "python",
   "pygments_lexer": "ipython3",
   "version": "3.10.12"
  }
 },
 "nbformat": 4,
 "nbformat_minor": 5
}
