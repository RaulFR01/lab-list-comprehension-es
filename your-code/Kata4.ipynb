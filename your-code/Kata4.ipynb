{
 "cells": [
  {
   "cell_type": "markdown",
   "id": "5623fa5e-4ab4-4649-8202-ca784bcd3ac6",
   "metadata": {},
   "source": [
    "In this kata you will create a function that takes a list of non-negative integers and strings and returns a new list with the strings filtered out.\n",
    "\n",
    "Example\n",
    "filter_list([1,2,'a','b']) == [1,2]\n",
    "filter_list([1,'a','b',0,15]) == [1,0,15]\n",
    "filter_list([1,2,'aasf','1','123',123]) == [1,2,123]"
   ]
  },
  {
   "cell_type": "code",
   "execution_count": 9,
   "id": "dd6303af-5dd1-4578-8a97-e3114f106c86",
   "metadata": {},
   "outputs": [],
   "source": [
    "def listFiltering(list_):\n",
    "    list2 = [i for i in list_ if type(i) != str] \n",
    "    return list2"
   ]
  },
  {
   "cell_type": "code",
   "execution_count": 10,
   "id": "df2af1bd-afc0-47a8-9f3e-0fdfcac8700d",
   "metadata": {},
   "outputs": [
    {
     "data": {
      "text/plain": [
       "[1, 2]"
      ]
     },
     "execution_count": 10,
     "metadata": {},
     "output_type": "execute_result"
    }
   ],
   "source": [
    "listFiltering([1,2,'a','b'])"
   ]
  }
 ],
 "metadata": {
  "kernelspec": {
   "display_name": "Python 3 (ipykernel)",
   "language": "python",
   "name": "python3"
  },
  "language_info": {
   "codemirror_mode": {
    "name": "ipython",
    "version": 3
   },
   "file_extension": ".py",
   "mimetype": "text/x-python",
   "name": "python",
   "nbconvert_exporter": "python",
   "pygments_lexer": "ipython3",
   "version": "3.10.12"
  }
 },
 "nbformat": 4,
 "nbformat_minor": 5
}
