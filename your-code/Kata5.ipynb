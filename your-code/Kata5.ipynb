{
 "cells": [
  {
   "cell_type": "markdown",
   "id": "58fc4274-ee1e-4db6-bbf4-7ed7dd75d7b7",
   "metadata": {},
   "source": [
    "In this kata, you will write an arithmetic list which is basically a list that contains consecutive terms in the sequence.\n",
    "You will be given three parameters :\n",
    "\n",
    "first the first term in the sequence\n",
    "c the constant that you are going to ADD ( since it is an arithmetic sequence...)\n",
    "l the number of terms that should be returned\n",
    "Useful link: Sequence\n",
    "\n",
    "Be sure to check out my Arithmetic sequence Kata first ;)\n",
    "Don't forget about the indexing pitfall ;)"
   ]
  },
  {
   "cell_type": "code",
   "execution_count": 26,
   "id": "97ff784b-93be-435d-9ffe-60ab9f928daa",
   "metadata": {},
   "outputs": [],
   "source": [
    "def sequence(first,c,l):\n",
    "    list_ = [first+i*c for i in range(l)]\n",
    "    return list_   "
   ]
  },
  {
   "cell_type": "code",
   "execution_count": 30,
   "id": "ec14079c-9085-459c-88c5-7b19eb479d64",
   "metadata": {},
   "outputs": [
    {
     "data": {
      "text/plain": [
       "[2, 4, 6, 8, 10]"
      ]
     },
     "execution_count": 30,
     "metadata": {},
     "output_type": "execute_result"
    }
   ],
   "source": [
    "sequence(2,2,5)"
   ]
  },
  {
   "cell_type": "code",
   "execution_count": 31,
   "id": "600671be-521b-4c62-82ff-a059a7d12b94",
   "metadata": {},
   "outputs": [
    {
     "data": {
      "text/plain": [
       "[5, 6, 7, 8, 9]"
      ]
     },
     "execution_count": 31,
     "metadata": {},
     "output_type": "execute_result"
    }
   ],
   "source": [
    "sequence(5,1,5)"
   ]
  }
 ],
 "metadata": {
  "kernelspec": {
   "display_name": "Python 3 (ipykernel)",
   "language": "python",
   "name": "python3"
  },
  "language_info": {
   "codemirror_mode": {
    "name": "ipython",
    "version": 3
   },
   "file_extension": ".py",
   "mimetype": "text/x-python",
   "name": "python",
   "nbconvert_exporter": "python",
   "pygments_lexer": "ipython3",
   "version": "3.10.12"
  }
 },
 "nbformat": 4,
 "nbformat_minor": 5
}
