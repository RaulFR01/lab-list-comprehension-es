{
 "cells": [
  {
   "cell_type": "markdown",
   "id": "5064ff4a-ba25-417f-ac25-4e1a1e43ae2a",
   "metadata": {},
   "source": [
    "Given a set of numbers, return the additive inverse of each. Each positive becomes negatives, and the negatives become positives.\n",
    "\n",
    "invert([1,2,3,4,5]) == [-1,-2,-3,-4,-5]\n",
    "invert([1,-2,3,-4,5]) == [-1,2,-3,4,-5]\n",
    "invert([]) == []\n",
    "\n",
    "You can assume that all values are integers. Do not mutate the input array/list.\n",
    "\n",
    "LISTSFUNDAMENTALSARRAYS"
   ]
  },
  {
   "cell_type": "code",
   "execution_count": 9,
   "id": "fe684f21-c18c-4a7e-85ca-a4e76e62c61b",
   "metadata": {},
   "outputs": [],
   "source": [
    "def invert(list_1):\n",
    "    list_2=[-i for i in list_1]\n",
    "    return list_2"
   ]
  },
  {
   "cell_type": "code",
   "execution_count": 11,
   "id": "1115d50c-e179-4367-ae95-0d9eb238c91b",
   "metadata": {},
   "outputs": [
    {
     "data": {
      "text/plain": [
       "[1, 2, 3, 4, 5]"
      ]
     },
     "execution_count": 11,
     "metadata": {},
     "output_type": "execute_result"
    }
   ],
   "source": [
    "invert([-1,-2,-3,-4,-5])"
   ]
  },
  {
   "cell_type": "code",
   "execution_count": 12,
   "id": "35d8fe13-3f23-4f27-9ee9-bb3440e4f6f7",
   "metadata": {},
   "outputs": [
    {
     "data": {
      "text/plain": [
       "[]"
      ]
     },
     "execution_count": 12,
     "metadata": {},
     "output_type": "execute_result"
    }
   ],
   "source": [
    "invert([])"
   ]
  }
 ],
 "metadata": {
  "kernelspec": {
   "display_name": "Python 3 (ipykernel)",
   "language": "python",
   "name": "python3"
  },
  "language_info": {
   "codemirror_mode": {
    "name": "ipython",
    "version": 3
   },
   "file_extension": ".py",
   "mimetype": "text/x-python",
   "name": "python",
   "nbconvert_exporter": "python",
   "pygments_lexer": "ipython3",
   "version": "3.10.12"
  }
 },
 "nbformat": 4,
 "nbformat_minor": 5
}
