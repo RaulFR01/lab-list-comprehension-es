{
 "cells": [
  {
   "cell_type": "markdown",
   "id": "134fc57f-b67a-4312-b831-ca88ad6003f9",
   "metadata": {},
   "source": [
    "Complete the square sum function so that it squares each number passed into it and then sums the results together.\n",
    "\n",
    "For example, for [1, 2, 2] it should return 9 because \n",
    "1\n",
    "2\n",
    "+\n",
    "2\n",
    "2\n",
    "+\n",
    "2\n",
    "2\n",
    "=\n",
    "9\n",
    "1 \n",
    "2\n",
    " +2 \n",
    "2\n",
    " +2 \n",
    "2\n",
    " =9."
   ]
  },
  {
   "cell_type": "code",
   "execution_count": 13,
   "id": "8f0a6d37-a7f5-476f-bcdd-00507e2ad38a",
   "metadata": {},
   "outputs": [],
   "source": [
    "def SquareSum(list_):\n",
    "    sum_ = [i**2 for i in list_]\n",
    "    return sum(sum_)"
   ]
  },
  {
   "cell_type": "code",
   "execution_count": 14,
   "id": "b9227020-b329-4cfa-b8b1-2c9770877545",
   "metadata": {},
   "outputs": [
    {
     "data": {
      "text/plain": [
       "9"
      ]
     },
     "execution_count": 14,
     "metadata": {},
     "output_type": "execute_result"
    }
   ],
   "source": [
    "SquareSum([1, 2, 2])"
   ]
  }
 ],
 "metadata": {
  "kernelspec": {
   "display_name": "Python 3 (ipykernel)",
   "language": "python",
   "name": "python3"
  },
  "language_info": {
   "codemirror_mode": {
    "name": "ipython",
    "version": 3
   },
   "file_extension": ".py",
   "mimetype": "text/x-python",
   "name": "python",
   "nbconvert_exporter": "python",
   "pygments_lexer": "ipython3",
   "version": "3.10.12"
  }
 },
 "nbformat": 4,
 "nbformat_minor": 5
}
